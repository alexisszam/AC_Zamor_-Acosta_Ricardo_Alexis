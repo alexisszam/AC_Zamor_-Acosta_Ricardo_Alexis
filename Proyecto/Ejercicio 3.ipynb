{
 "cells": [
  {
   "cell_type": "markdown",
   "id": "7b8155c7",
   "metadata": {},
   "source": [
    "# Ejercicio 3 Proyecto Algoritmos Computacionales\n",
    "## Zamora Acosta Ricardo Alexis"
   ]
  },
  {
   "cell_type": "code",
   "execution_count": null,
   "id": "d18ee64f",
   "metadata": {},
   "outputs": [
    {
     "name": "stdout",
     "output_type": "stream",
     "text": [
      "Estimación de pi\n",
      "¿Cuántos puntos quieres generar?1000\n",
      "Valor estimado de pi =  3.176\n",
      ":D\n"
     ]
    }
   ],
   "source": [
    "import random\n",
    "from graphics import*          #librería open source para poder realizar el círculo\n",
    "\n",
    "Cuadrado = 700                 #Cuadrado donde estarán nuestros puntos y el círculo\n",
    "Radio = Cuadrado/2             #Círculo con con radio de la mitad de la distancia del cuadrado\n",
    "Centro = Point(Radio, Radio)   #El centro del círculo tiene las coordenadas x,y= longitud del radio, para que este en el centro \n",
    "Circulo = 0.                   #Definimos esta variable que ocuparemos después\n",
    "\n",
    "print(\"Estimación de pi\")\n",
    "\n",
    "puntos = int(input (\"¿Cuántos puntos quieres generar?\"))       #salte un recuadro donde puedas poner cuántos puntos quieres evaluar\n",
    "if (puntos < 1):\n",
    "    puntos = 2\n",
    "cuadrado = GraphWin(\"Cuadrado de Gráfico\", Cuadrado, Cuadrado) #abre la vemtana donde graficará\n",
    "cuadrado.setBackground(\"blue\")                                 #el fondo del gráfico será azul\n",
    "cuadrado.setCoords(0, 0, Cuadrado, Cuadrado)                   #definimos las coordenadas del cuadrado\n",
    "\n",
    "circulo = Circle(Centro, Radio)                             #el círculo que centro y que radio tendrá\n",
    "circulo.setOutline(\"red\")                                   #color del cículo\n",
    "circulo.setWidth(2)                                         #grosor de la línea\n",
    "circulo.draw(cuadrado)                                      #dibuja el círculo dentro del cuadrado\n",
    "\n",
    "for n in range(puntos):                                     #para los n puntos que hayamos definido previamente\n",
    "    x = random.uniform(-Radio, Radio)                       #establece un x aleatorio \n",
    "    y = random.uniform(-Radio, Radio)                       #establece un y aleatorio \n",
    "    cuadrado.plot(x + Radio, y + Radio)                     #los puntos x,y se graficará dentro del cuadrado graficado\n",
    "\n",
    "    if ((x**2 + y**2) <= Radio**2):                         #si el punto aleatorio generado cae dentro del círculo \n",
    "        Circulo += 1                                        #entonces añade una unidad \n",
    "pi = 4. * Circulo / puntos                                  #multiplica 4 por cirulo que definimos como cero entre el número de puntos\n",
    "\n",
    "print(\"Valor estimado de pi = \",pi)                         #imprime el valor de pi obtenido con la opeeeración anterior\n",
    "print(\":D\")                                                 #imprime una carita feliz\n",
    "\n",
    "cuadrado.getMouse()                                         #click en lo graficado para cerrar esa ventana\n",
    "cuadrado.close()"
   ]
  }
 ],
 "metadata": {
  "kernelspec": {
   "display_name": "Python 3 (ipykernel)",
   "language": "python",
   "name": "python3"
  },
  "language_info": {
   "codemirror_mode": {
    "name": "ipython",
    "version": 3
   },
   "file_extension": ".py",
   "mimetype": "text/x-python",
   "name": "python",
   "nbconvert_exporter": "python",
   "pygments_lexer": "ipython3",
   "version": "3.10.2"
  }
 },
 "nbformat": 4,
 "nbformat_minor": 5
}
