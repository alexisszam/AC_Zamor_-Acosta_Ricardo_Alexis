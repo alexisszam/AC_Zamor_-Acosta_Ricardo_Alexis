{
 "cells": [
  {
   "cell_type": "markdown",
   "id": "4190cf44",
   "metadata": {},
   "source": [
    "# ¿Cómo se ejecuta un programa?\n",
    "\n",
    "Al final del notebook ```0.1-Qué_es_un_programa``` convertimos el pseudocódigo \"Enumera todos los enteros positivos mayores que uno y menores que cien de menor a mayor.\" en el siguiente código, el cual puede ser interpretado y ejecutado por una computadora:"
   ]
  },
  {
   "cell_type": "code",
   "execution_count": null,
   "id": "a624b80e",
   "metadata": {},
   "outputs": [],
   "source": [
    "for i in 1:99    # Para una variable 'i' que va de 1 a 99\n",
    "    print(i,\",\") # imprime el valor de la variable y una coma (,);\n",
    "end              # luego, termina el proceso iterativo.\n",
    "\n",
    "print(100,\".\")   # Imprime el valor 100 y un punto (.)."
   ]
  },
  {
   "cell_type": "markdown",
   "id": "91b3d14e",
   "metadata": {},
   "source": [
    "### Lenguajes de programación, código fuente y sintáxis\n",
    "\n",
    "Observemos que el código anterior contiene símbolos, **palabras** (en inglés) y _colores_. Sin embargo, **las máquinas no entienden lenguaje humano** y _tampoco perciben colores_. Entonces, ¿qué está sucediendo? \n",
    "\n",
    "Cualquier lenguaje utilizado para controlar el CPU (unidad de procesamiento central) de una computadora es conocido como un _lenguaje de máquina_, y éste está formado de bits (dígitos binarios - 0 y 1), dígitos numéricos y caracteres especiales que corresponden a comandos que el procesador sabe interpretar. Este tipo de lenguajes también son conocidos como lenguajes de programación _de bajo nivel_ por su \"cercanía\" al CPU y su \"poca sofisticación\".\n",
    "\n",
    "Claramente, el código de la celda anterior no está escrito en lenguaje de máquina. Esto se debe a que este tipo de lenguaje es prácticamente imposible de leer e interpretar para seres humanos, por lo que se han creado muchos lenguajes de programación, conocidos como lenguajes _de alto nivel_, que son muchos más aptos para la lectura y escritura humana. Cada lenguaje de alto nivel tiene herramientas capaces de traducir un código escrito en dicho lenguaje (y, por ende, legible para seres humanos) a un código en lenguaje de máquina, el cual la computadora puede ejecutar; no ahondaremos en los detalles técnicos de este proceso en este curso. En general, nos referimos al código de un programa que está escrito en un lenguaje de alto nivel -y que, por ende, es legible para humanos- como **código fuente**; en inglés, se conoce como _source code_.\n",
    "\n",
    "Sin embargo, lo anterior no significa que los lenguajes de alto nivel puedan simplemente interpretar enunciados fácilmente entendibles para humanos como ''Enumera todos los enteros positivos de menor a mayor.''; estos lenguajes también **tienen reglas estrictas que deben respetarse** y, por lo tanto, que debemos aprender (¡y repasar constantemente!). En particular, cada lenguaje de alto nivel tiene una serie de reglas que detallan cómo ciertos símbolos y palabras deben combinarse para formar enunciados y cómo debe ordenarse el texto (utilizando espacios, sangrías, etc.) para que puedan ser interpretados correctamente, a las cuales se les conoce como la **sintáxis** del lenguaje de programación. De ahora en adelante, cuando hablemos de un ''lenguaje de programación'' nos referiremos a un lenguaje de alto nivel, a menos de que se indique lo contrario.\n",
    "\n",
    "El código anterior está escrito en el lenguaje de programación [Julia](https://julialang.org/), el cual usaremos durante la mayor parte del curso. La intención de los colores que aparecen en el código es servir de apoyo para verificar que la sintáxis de lo que escribimos concuerde con la que \"Julia sabe interpretar\"; iremos entendiendo mejor tanto los colores como su utilidad conforme aprendamos más sobre Julia."
   ]
  },
  {
   "cell_type": "markdown",
   "id": "d106c116",
   "metadata": {},
   "source": [
    "### Comentarios\n",
    "\n",
    "El código fuente es \"legible\" hasta cierto punto, pues a menudo se vuelve de un tamaño y una complejidad considerable, lo cual dificulta mucho el poder entender exactamente qué está sucediendo con tan solo echarle una mirada. Inclusive un código simple se puede volver ilegible con el paso del tiempo, porque no reconocemos todo lo que está escrito y, por ende, no podemos decir qué hace ese código con absoluta seguridad, como cuando recién lo habíamos terminado de escribir (y teníamos todo fresco en la mente).\n",
    "\n",
    "Para minimizar estos problemas, la mayoría de los lenguajes de alto nivel incluyen dentro de su sintáxis una opción para poder agregar **comentarios** en el código fuente, esto es, poder delimitar partes de **texto que será ignorado** al momento de interpretar y ejecutar el código. En Julia, el símbolo de gato (#) se usa para marcar el inicio de un comentario, haciendo que todo el texto que quede _en la misma línea_ a la derecha del gato sea ignorado. El uso de este símbolo para indicar que se inicia un comentario no es universal: a pesar de que algunos lenguajes de programación lo comparten (como Python), cada lenguaje de programación puede tener una sintáxis distinta para los comentarios.\n",
    "\n",
    "Para encontrar ejemplos de comentarios en código de Julia, basta con ver cualquier celda de cualquier notebook del curso (si alguna no tiene comentarios, ¡ustedes agrégenselos!), puesto que es una excelente práctica escribir comentarios al momento de programar para que podamos _volver a él después_ y rápidamente entender lo que estábamos haciendo, además de que _otras personas_ puedan entenderlo también de forma rápida; esto es, ¡siempre y cuando el código no quede ilegible por estar abarrotado con _demasiados_ comentarios!"
   ]
  },
  {
   "cell_type": "markdown",
   "id": "33185fc9",
   "metadata": {},
   "source": [
    "### Mensajes de error\n",
    "\n",
    "Cuando escribimos nuestro código y lo ejecutamos, si hicimos todo bien a la primera, nos debe aparecer el resultado que buscamos obtener. Sin embargo, rara vez hacemos las cosas perfectamente bien a la primera, por lo que la mayor parte del tiempo después de ejecutar un pedazo de código nos enfrentaremos con un **mensaje de error**, como el que aparece al correr la celda siguiente."
   ]
  },
  {
   "cell_type": "code",
   "execution_count": 4,
   "id": "81a04bf6",
   "metadata": {
    "scrolled": true
   },
   "outputs": [
    {
     "name": "stdout",
     "output_type": "stream",
     "text": [
      "1,2,3,4,5,6,7,8,9,10,11,12,13,14,15,16,17,18,19,20,21,22,23,24,25,26,27,28,29,30,31,32,33,34,35,36,37,38,39,40,41,42,43,44,45,46,47,48,49,50,51,52,53,54,55,56,57,58,59,60,61,62,63,64,65,66,67,68,69,70,71,72,73,74,75,76,77,78,79,80,81,82,83,84,85,86,87,88,89,90,91,92,93,94,95,96,97,98,99,100."
     ]
    }
   ],
   "source": [
    "for i in 1:99    # Para una variable 'i' que va de 1 a 99\n",
    "    print(i,\",\") # imprime el valor de la variable y una coma (,);\n",
    "end              # luego, termina el proceso iterativo.\n",
    "\n",
    "print(100,\".\")   # Imprime el valor 100 y un punto (.)."
   ]
  },
  {
   "cell_type": "markdown",
   "id": "087156e8",
   "metadata": {},
   "source": [
    "La línea\n",
    "\n",
    "```syntax: invalid iteration specification```\n",
    "\n",
    "nos dice que el problema que tenemos es de sintáxis, mientras que en la línea\n",
    "\n",
    "```    @ In[?]:1```\n",
    "    \n",
    "la parte antes de los dos puntos (```:```) indica _en qué celda_ del notebook se encuentra el problema, mientras que la parte que está después indica _en qué linea_ de dicha celda se detecta el problema."
   ]
  },
  {
   "cell_type": "code",
   "execution_count": 10,
   "id": "b9d3e234",
   "metadata": {},
   "outputs": [
    {
     "name": "stdout",
     "output_type": "stream",
     "text": [
      "1,2,3,4,5,6,7,8,9,10,11,12,13,14,15,16,17,18,19,20,21,22,23,24,25,26,27,28,29,30,31,32,33,34,35,36,37,38,39,40,41,42,43,44,45,46,47,48,49,50,51,52,53,54,55,56,57,58,59,60,61,62,63,64,65,66,67,68,69,70,71,72,73,74,75,76,77,78,79,80,81,82,83,84,85,86,87,88,89,90,91,92,93,94,95,96,97,98,99,100."
     ]
    }
   ],
   "source": [
    "for i in 1:99     # Para una variable 'i' que va de 1 a 99\n",
    "    print(i,\",\") # imprime el valor de la variable y una coma (,);\n",
    "end               # luego, termina el proceso iterativo.\n",
    "\n",
    "print(100,\".\")    # Imprime el valor 100 y un punto (.)."
   ]
  },
  {
   "cell_type": "code",
   "execution_count": 11,
   "id": "60f82b8e",
   "metadata": {},
   "outputs": [
    {
     "name": "stdout",
     "output_type": "stream",
     "text": [
      "1,2,3,4,5,6,7,8,9,10,11,12,13,14,15,16,17,18,19,20,21,22,23,24,25,26,27,28,29,30,31,32,33,34,35,36,37,38,39,40,41,42,43,44,45,46,47,48,49,50,51,52,53,54,55,56,57,58,59,60,61,62,63,64,65,66,67,68,69,70,71,72,73,74,75,76,77,78,79,80,81,82,83,84,85,86,87,88,89,90,91,92,93,94,95,96,97,98,99,100."
     ]
    }
   ],
   "source": [
    "for i in 1:99    # Para una variable 'i' que va de 1 a 99\n",
    "    print(i,\",\") # imprime el valor de la variable y una coma (,);\n",
    "end\n",
    "\n",
    "print(100,\".\")   # Imprime el valor 100 y un punto (.)."
   ]
  },
  {
   "cell_type": "code",
   "execution_count": 12,
   "id": "45f92b9a",
   "metadata": {
    "scrolled": true
   },
   "outputs": [
    {
     "name": "stdout",
     "output_type": "stream",
     "text": [
      "1,2,3,4,5,6,7,8,9,10,11,12,13,14,15,16,17,18,19,20,21,22,23,24,25,26,27,28,29,30,31,32,33,34,35,36,37,38,39,40,41,42,43,44,45,46,47,48,49,50,51,52,53,54,55,56,57,58,59,60,61,62,63,64,65,66,67,68,69,70,71,72,73,74,75,76,77,78,79,80,81,82,83,84,85,86,87,88,89,90,91,92,93,94,95,96,97,98,99,100."
     ]
    }
   ],
   "source": [
    "for i in 1:99    # Para una variable 'i' que va de 1 a 99\n",
    "    print(i,\",\") # imprime el valor de la variable y una coma (,);\n",
    "end              # luego, termina el proceso iterativo.\n",
    "\n",
    "print(100,\".\")    # Imprime el valor 100 y un punto (.)."
   ]
  },
  {
   "cell_type": "markdown",
   "id": "3733d64d",
   "metadata": {},
   "source": [
    "Es común que dos errores que dos errores \"del mismo tipo\" sean interpretados de maneras extremadamente distintas por la computadora. Por ejemplo, las dos celdas siguientes tienen \"el mismo tipo\" de error desde nuestra perspectiva humana: falta un símbolo de gato (#) al inicio de un comentario. Sin embargo, por la manera en que se va interpretando y ejecutando el código, los mensajes de error que obtenemos son diferentes."
   ]
  },
  {
   "cell_type": "code",
   "execution_count": 13,
   "id": "0df613a4",
   "metadata": {},
   "outputs": [
    {
     "name": "stdout",
     "output_type": "stream",
     "text": [
      "1,2,3,4,5,6,7,8,9,10,11,12,13,14,15,16,17,18,19,20,21,22,23,24,25,26,27,28,29,30,31,32,33,34,35,36,37,38,39,40,41,42,43,44,45,46,47,48,49,50,51,52,53,54,55,56,57,58,59,60,61,62,63,64,65,66,67,68,69,70,71,72,73,74,75,76,77,78,79,80,81,82,83,84,85,86,87,88,89,90,91,92,93,94,95,96,97,98,99,100."
     ]
    }
   ],
   "source": [
    "for i in 1:99    # Para una variable 'i' que va de 1 a 99\n",
    "    print(i,\",\") # imprime el valor de la variable y una coma (,);\n",
    "end              # luego, termina el proceso iterativo.\n",
    "\n",
    "print(100,\".\")   # Imprime el valor 100 y un punto (.)."
   ]
  },
  {
   "cell_type": "code",
   "execution_count": 16,
   "id": "6e3b9204",
   "metadata": {
    "scrolled": true
   },
   "outputs": [
    {
     "name": "stdout",
     "output_type": "stream",
     "text": [
      "1,2,3,4,5,6,7,8,9,10,11,12,13,14,15,16,17,18,19,20,21,22,23,24,25,26,27,28,29,30,31,32,33,34,35,36,37,38,39,40,41,42,43,44,45,46,47,48,49,50,51,52,53,54,55,56,57,58,59,60,61,62,63,64,65,66,67,68,69,70,71,72,73,74,75,76,77,78,79,80,81,82,83,84,85,86,87,88,89,90,91,92,93,94,95,96,97,98,99,100."
     ]
    }
   ],
   "source": [
    "for i in 1:99    # Para una variable 'i' que va de 1 a 99\n",
    "    print(i,\",\") # imprime el valor de la variable y una coma (,);\n",
    "end              # luego, termina el proceso iterativo.\n",
    "\n",
    "print(100,\".\")   # Imprime el valor 100 y un punto (.)."
   ]
  },
  {
   "cell_type": "markdown",
   "id": "fb7217a3",
   "metadata": {},
   "source": [
    "Los mensajes de error a veces pueden parecer intimidantes debido a su extensión y formato, pero están escritos de esa manera _precisamente_ porque su _única intención_ es la de **ayudarnos a corregir nuestro código para que se pueda ejecutar correctamente**, y ¿qué mejor manera hay de hacerlo que describiendo el error de forma explícita y precisa? Es por ello que aprender a interpretar los mensajes de error con la práctica, ya sea tan sólo para ubicar en qué parte del código se encuentra el error, es de enorme utilidad y nos puede ahorrar muchísimo tiempo al programar. "
   ]
  },
  {
   "cell_type": "markdown",
   "id": "c6eb33ec",
   "metadata": {},
   "source": [
    "#### Nota final\n",
    "\n",
    "De forma amigable, te decimos lo siguiente por experiencia nuestra y de millones de personas más:\n",
    "\n",
    "1. **Te vas a equivocar muy seguido** al programar, y recibirás muchos mensajes de error distintos.\n",
    "1. Tarde o temprano, **se te va a olvidar todo lo que programes**, y lamentarás no haber comentado a profundidad tu código.\n",
    "\n",
    "Por ello, te aconsejamos fuertemente hacer un esfuerzo constante por _leer y entender los mensajes de error_ que te aparezcan y _comentar tu código_ de tal forma que cualquier persona (en particular, incluyéndote a ti en el futuro) con un conocimiento mínimo del lenguaje de programación que estás utilizando pueda leer tu código, interpretarlo, y entender qué está haciendo. Recuerda estos consejos **hoy y siempre** que programes."
   ]
  },
  {
   "cell_type": "code",
   "execution_count": null,
   "id": "1289db21",
   "metadata": {},
   "outputs": [],
   "source": []
  }
 ],
 "metadata": {
  "kernelspec": {
   "display_name": "Julia 1.7.2",
   "language": "julia",
   "name": "julia-1.7"
  },
  "language_info": {
   "file_extension": ".jl",
   "mimetype": "application/julia",
   "name": "julia",
   "version": "1.7.2"
  }
 },
 "nbformat": 4,
 "nbformat_minor": 5
}
