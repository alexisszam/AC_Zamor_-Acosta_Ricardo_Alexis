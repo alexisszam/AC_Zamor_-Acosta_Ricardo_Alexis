{
 "cells": [
  {
   "cell_type": "markdown",
   "id": "97c713b1",
   "metadata": {},
   "source": [
    "# ¿Qué es un programa?\n",
    "\n",
    "En este curso, emplearemos la palabra **programa** para referirnos a un _programa computacional_, el cual entenderemos como una _serie de instrucciones que una computadora puede ejecutar o, en su defecto, interpretar_."
   ]
  },
  {
   "cell_type": "markdown",
   "id": "537e3007",
   "metadata": {},
   "source": [
    "Consideremos los enunciados siguientes.\n",
    "1. ''Calcula cuántos átomos hay en el universo.'' \n",
    "1. ''Dime cuáles números enteros son mayores que uno y menores que cien.''\n",
    "1. ''Enumera todos los enteros positivos de menor a mayor.''\n",
    "1. ''Divide uno entre cero.''\n",
    "\n",
    "¿Cuál(es) enunciados califican como un programa y cuál(es) no, de acuerdo a nuestra definición?"
   ]
  },
  {
   "cell_type": "markdown",
   "id": "c6da5964",
   "metadata": {},
   "source": [
    "### Paradigma imperativo de la programación\n",
    "\n",
    "Existen muchos paradigmas (y subparadigmas) distintos en el mundo de la programación, los cuales tienen diferentes usos y enfoques, y no necesariamente se excluyen entre sí. Algunos ejemplos incluyen el paradigma imperativo, declarativo, dinámico y, más recientemente, la programación cuántica. En este curso, nos enfocaremos en el imperativo.\n",
    "\n",
    "Cuando, en nuestra definición de 'programa', hablamos de una _serie_ de instrucciones, nos referimos a un conjunto de instrucciones _con un orden definido_. El entender un programa como una _''serie de instrucciones...''_ se conoce como el **paradigma imperativo** de la programación, pues en este caso le estamos _ordenando_ a la computadora qué hacer; es decir, le estamos diciendo a la computadora _qué_ queremos que haga y _cómo_ queremos que lo haga, **removiendo toda ambigüedad al respecto** en el proceso.\n",
    "\n",
    "En este sentido, el enunciado 2 visto anteriormente no puede ser considerado como un programa, pues hay muchísimas maneras de ''decir cuáles números enteros son mayores que uno y menores que cien'', y el enunciado _no_ remueve esta ambigüedad especificando de qué forma debería hacerse."
   ]
  },
  {
   "cell_type": "markdown",
   "id": "d6b15399",
   "metadata": {},
   "source": [
    "### Una importante observación\n",
    "\n",
    "Intentemos ejecutar los enunciados 3 y 4 en las dos celdas siguientes."
   ]
  },
  {
   "cell_type": "code",
   "execution_count": 6,
   "id": "7abbc676",
   "metadata": {},
   "outputs": [
    {
     "ename": "LoadError",
     "evalue": "syntax: extra token \"todos\" after end of expression",
     "output_type": "error",
     "traceback": [
      "syntax: extra token \"todos\" after end of expression",
      "",
      "Stacktrace:",
      " [1] top-level scope",
      "   @ In[6]:1",
      " [2] eval",
      "   @ .\\boot.jl:373 [inlined]",
      " [3] include_string(mapexpr::typeof(REPL.softscope), mod::Module, code::String, filename::String)",
      "   @ Base .\\loading.jl:1196"
     ]
    }
   ],
   "source": [
    "Enumera todos los números positivos de menor a mayor."
   ]
  },
  {
   "cell_type": "code",
   "execution_count": 5,
   "id": "27a9dd5f",
   "metadata": {},
   "outputs": [
    {
     "ename": "LoadError",
     "evalue": "syntax: extra token \"uno\" after end of expression",
     "output_type": "error",
     "traceback": [
      "syntax: extra token \"uno\" after end of expression",
      "",
      "Stacktrace:",
      " [1] top-level scope",
      "   @ In[5]:1",
      " [2] eval",
      "   @ .\\boot.jl:373 [inlined]",
      " [3] include_string(mapexpr::typeof(REPL.softscope), mod::Module, code::String, filename::String)",
      "   @ Base .\\loading.jl:1196"
     ]
    }
   ],
   "source": [
    "Divide uno entre cero."
   ]
  },
  {
   "cell_type": "markdown",
   "id": "f5ac8ee1",
   "metadata": {},
   "source": [
    "Observemos que en ninguno de los dos casos anteriores obtenemos el resultado que buscamos. Esto se debe a que la computadora no puede interpretar estos enunciados de la forma en que los escribimos; por ende, estrictamente hablando, los enunciados 3 y 4 _tampoco_ contarían como programas (en el paradigma imperativo).\n",
    "\n",
    "## Código y pseudocódigo\n",
    "\n",
    "Para hacer más clara la distinción, nos referiremos a un programa que puede ser ejecutado o al menos interpretado por una computadora, de acuerdo a la definición anterior, como un **código**. En cambio, a una serie de instrucciones que _podría_ ser ejecutada/interpretada por una computadora si se transformara en código pero que, _en su forma actual, sólo puede ser interpretada por seres humanos_ se le conoce como **pseudocódigo**.\n",
    "\n",
    "Por ejemplo, una forma de transformar los pseudocódigos de los enunciados 2 y 4 a códigos es la siguiente."
   ]
  },
  {
   "cell_type": "code",
   "execution_count": 12,
   "id": "81570fcd",
   "metadata": {},
   "outputs": [
    {
     "name": "stdout",
     "output_type": "stream",
     "text": [
      "Código:2,3,4,5,6,7,8,9,10,11,12,13,14,15,16,17,18,19,20,21,22,23,24,25,26,27,28,29,30,31,32,33,34,35,36,37,38,39,40,41,42,43,44,45,46,47,48,49,50,51,52,53,54,55,56,57,58,59,60,61,62,63,64,65,66,67,68,69,70,71,72,73,74,75,76,77,78,79,80,81,82,83,84,85,86,87,88,89,90,91,92,93,94,95,96,97,98,99."
     ]
    }
   ],
   "source": [
    "print(\"Código:\")\n",
    "for i in 2:98    # Para una variable 'i' que va de 1 a 99\n",
    "    print(i,\",\") # imprime el valor de la variable y una coma (,);\n",
    "end              # luego, termina el proceso iterativo.\n",
    "\n",
    "print(99,\".\")   # Imprime el valor 100 y un punto (.)."
   ]
  },
  {
   "cell_type": "code",
   "execution_count": 13,
   "id": "7ac2a841",
   "metadata": {},
   "outputs": [
    {
     "data": {
      "text/plain": [
       "Inf"
      ]
     },
     "execution_count": 13,
     "metadata": {},
     "output_type": "execute_result"
    }
   ],
   "source": [
    "1/0 # Uno entre cero."
   ]
  },
  {
   "cell_type": "markdown",
   "id": "1f2e526c",
   "metadata": {},
   "source": [
    "Sin embargo, para transformar un pseudocódigo en código necesitamos utilizar un lenguaje de programación, el cual tiene una sintáxis propia. Además, para poder saber si la computadora puede ejecutar o al menos interpretar lo que le escribimos, debemos aprender a leer mensajes de error. Por ello, ¡estos son los temas que discutiremos en el siguiente _notebook_!"
   ]
  },
  {
   "cell_type": "markdown",
   "id": "d2df6803",
   "metadata": {},
   "source": [
    "#### Ejercicio\n",
    "\n",
    "Completa la siguiente tabla y agrumenta tus respuestas debajo. (Nota: Recuerda que debes hacer doble clic en esta celda para editarla, y que en este curso siempre asumiremos que estamos trabajando dentro del paradigmo imperativo de la programación.)\n",
    "\n",
    "|Enunciado|1|2|3|4|\n",
    "|-|-|-|-|-|\n",
    "|¿Es código?|No|No|No|No|\n",
    "|¿Es pseudocódigo?|Si|Si|Si|Si|Si|\n",
    "\n",
    "_Inserta tus argumentos aquí_.\n",
    "\n",
    "Niguno de los cuatro enunciados es un código, ya que como vimos anteriormente, si ponemos los enunciados tal cual y se lo damos a la computadora esta no nos arrojará lo que nosotros deseamos."
   ]
  }
 ],
 "metadata": {
  "kernelspec": {
   "display_name": "Julia 1.7.2",
   "language": "julia",
   "name": "julia-1.7"
  },
  "language_info": {
   "file_extension": ".jl",
   "mimetype": "application/julia",
   "name": "julia",
   "version": "1.7.2"
  }
 },
 "nbformat": 4,
 "nbformat_minor": 5
}
